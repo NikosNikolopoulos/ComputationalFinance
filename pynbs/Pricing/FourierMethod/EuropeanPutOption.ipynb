{
 "cells": [
  {
   "cell_type": "code",
   "execution_count": 1,
   "metadata": {},
   "outputs": [],
   "source": [
    "################################################\n",
    "# Numerical Methods for Stochastic             #\n",
    "# Differential Equations                       #\n",
    "################################################\n",
    "#-----------------------------------------------\n",
    "#-----------------------------------------------\n",
    "################################################\n",
    "# Compute the price of a European put option   #\n",
    "# using Fourier methods for option pricing.    #\n",
    "################################################\n",
    "#-----------------------------------------------\n",
    "\n",
    "#import libraries\n",
    "import time\n",
    "import numpy as np\n",
    "import math\n",
    "from matplotlib import pyplot as plt\n",
    "from math import exp\n",
    "from numpy.lib.scimath  import sqrt\n",
    "from scipy.integrate import quad\n",
    "#-----------------------------------------------\n",
    "import warnings\n",
    "warnings.filterwarnings(\"ignore\")\n",
    "#-----------------------------------------------\n",
    "\n",
    "# to plot the results in the notebook:\n",
    "%matplotlib inline"
   ]
  },
  {
   "cell_type": "code",
   "execution_count": 7,
   "metadata": {},
   "outputs": [],
   "source": [
    "#-----------------------------------------------\n",
    "\n",
    "def H93_call_value(S0 ,K,T,r,kappa_v,theta_v,sigma_v,rho,v0):\n",
    "    ''' Valuation of European call option in H93 model via \n",
    "    Fourier-based approach.\n",
    "    Parameters\n",
    "    ==========\n",
    "    initial_value : float\n",
    "        initial stock/index level\n",
    "    strike : float\n",
    "        strike price\n",
    "    maturity : datetime object\n",
    "        time-to-maturity (for t=0)\n",
    "    short_rate : float\n",
    "        constant risk-free short rate\n",
    "    kappa_v : float\n",
    "        mean-reversion factor\n",
    "    theta_v : float\n",
    "        long-run mean of variance\n",
    "    sigma_v : float\n",
    "        volatility of variance\n",
    "    rho : float\n",
    "        correlation between variance and stock/index level\n",
    "    variance: float\n",
    "        initial level of variance \n",
    "    Returns\n",
    "    =======\n",
    "    call_value: float\n",
    "        present value of European call option\n",
    "    '''\n",
    "    int_value = quad(lambda u:\n",
    "                     H93_int_func(u, S0, K, T, r, kappa_v,\n",
    "                                  theta_v, sigma_v, rho, v0),\n",
    "                     0, np.inf, limit=250)[0]\n",
    "    call_value = max(0, S0 - np.exp(-r * T) * np.sqrt(S0 * K) /\n",
    "                     np.pi * int_value)\n",
    "    return call_value\n",
    "\n",
    "\n",
    "def H93_put_value(S0 ,K,T,r,kappa_v,theta_v,sigma_v,rho,v0):\n",
    "    ''' Valuation of European call option in Heston (1993) model via\n",
    "    Fourier-based approach. '''\n",
    "    \n",
    "    # Tic\n",
    "    t = time.time()\n",
    "    \n",
    "    call_value = H93_call_value(S0 ,K,T,r,kappa_v,theta_v,sigma_v,rho,v0)\n",
    "    put_value = call_value + K * math.exp(-r * T) - S0\n",
    "    \n",
    "     # Toc\n",
    "    elapsed = time.time() - t\n",
    "    \n",
    "    print(\"Put Option Price       : %.4f\" % put_value)\n",
    "    print(\"Run time               : %.4f\" % elapsed)\n",
    "    return put_value\n",
    "\n",
    "\n",
    "\n",
    "def H93_int_func(u, S0, K, T, r, kappa_v, theta_v, sigma_v, rho, v0):\n",
    "    ''' Valuation of European call option in H93 model via Lewis (2001)\n",
    "    Fourier-based approach: integration function.\n",
    "    Parameter definitions see function H93_call_value.'''\n",
    "    char_func_value = H93_char_func(u - 1j * 0.5, T, r, kappa_v,\n",
    "                                    theta_v, sigma_v, rho, v0)\n",
    "    int_func_value = 1 / (u ** 2 + 0.25) \\\n",
    "        * (np.exp(1j * u * np.log(S0 / K)) * char_func_value).real\n",
    "    return int_func_value\n",
    "\n",
    "\n",
    "def H93_char_func(u, T, r, kappa_v, theta_v, sigma_v, rho, v0):\n",
    "    ''' Valuation of European call option in H93 model \n",
    "    Fourier-based approach: characteristic function.'''\n",
    "    c1 = kappa_v * theta_v\n",
    "    c2 = -np.sqrt((rho * sigma_v * u * 1j - kappa_v) ** 2 -\n",
    "                  sigma_v ** 2 * (-u * 1j - u ** 2))\n",
    "    c3 = (kappa_v - rho * sigma_v * u * 1j + c2) \\\n",
    "        / (kappa_v - rho * sigma_v * u * 1j - c2)\n",
    "    H1 = (r * u * 1j * T + (c1 / sigma_v ** 2) *\n",
    "          ((kappa_v - rho * sigma_v * u * 1j + c2) * T -\n",
    "          2 * np.log((1 - c3 * np.exp(c2 * T)) / (1 - c3))))\n",
    "    H2 = ((kappa_v - rho * sigma_v * u * 1j + c2) / sigma_v ** 2 *\n",
    "          ((1 - np.exp(c2 * T)) / (1 - c3 * np.exp(c2 * T))))\n",
    "    char_func_value = np.exp(H1 + H2 * v0)\n",
    "    return char_func_value"
   ]
  },
  {
   "cell_type": "code",
   "execution_count": 8,
   "metadata": {},
   "outputs": [],
   "source": [
    "################################################\n",
    "# Input data.                                  #\n",
    "################################################\n",
    "\n",
    "initial_value = 100\n",
    "strike        = 120\n",
    "maturity      = 1\n",
    "short_rate    = 0\n",
    "kappa_v       = 1\n",
    "theta_v       = 0.09\n",
    "sigma_v       = 1\n",
    "rho           = -0.3\n",
    "volatility    = 0.09"
   ]
  },
  {
   "cell_type": "code",
   "execution_count": 9,
   "metadata": {},
   "outputs": [
    {
     "name": "stdout",
     "output_type": "stream",
     "text": [
      "Put Option Price       : 3.4714\n",
      "Run time               : 0.0080\n"
     ]
    }
   ],
   "source": [
    "strike   = 80                              #strike price(i)\n",
    "\n",
    "FFT_P_80 = H93_put_value(initial_value,strike,maturity,short_rate,kappa_v,theta_v,sigma_v,rho,volatility) "
   ]
  },
  {
   "cell_type": "code",
   "execution_count": 10,
   "metadata": {},
   "outputs": [
    {
     "name": "stdout",
     "output_type": "stream",
     "text": [
      "Put Option Price       : 9.7738\n",
      "Run time               : 0.0080\n"
     ]
    }
   ],
   "source": [
    "strike    = 100                            #strike price(ii)\n",
    "\n",
    "FFT_P_100 = H93_put_value(initial_value,strike,maturity,short_rate,kappa_v,theta_v,sigma_v,rho,volatility) "
   ]
  },
  {
   "cell_type": "code",
   "execution_count": 11,
   "metadata": {},
   "outputs": [
    {
     "name": "stdout",
     "output_type": "stream",
     "text": [
      "Put Option Price       : 23.4946\n",
      "Run time               : 0.0110\n"
     ]
    }
   ],
   "source": [
    "strike    = 120                            #strike price(iii)\n",
    "\n",
    "FFT_P_120 = H93_put_value(initial_value,strike,maturity,short_rate,kappa_v,theta_v,sigma_v,rho,volatility) "
   ]
  },
  {
   "cell_type": "code",
   "execution_count": 12,
   "metadata": {},
   "outputs": [],
   "source": [
    "#-----------------------------------------------\n",
    "################################################\n",
    "# Compare these results in terms of accuracy   # \n",
    "# and computational times with the put option  # \n",
    "# prices determined by the Euler Monte-Carlo   # \n",
    "################################################\n",
    "#-----------------------------------------------\n",
    "\n",
    "# Put-Call parity function for obtaining the price of the\n",
    "# Put option from the price of the Call option,\n",
    "# P=K-S_0+C.\n",
    "def PutCallParity(C,K):\n",
    "    P = K - S + C\n",
    "    return P"
   ]
  },
  {
   "cell_type": "code",
   "execution_count": null,
   "metadata": {},
   "outputs": [],
   "source": [
    "%run ../MonteCarlo/EuropeanCallOption.ipynb"
   ]
  },
  {
   "cell_type": "code",
   "execution_count": 13,
   "metadata": {},
   "outputs": [
    {
     "name": "stdout",
     "output_type": "stream",
     "text": [
      "#####################################################################\n",
      "For strike price K=80 the European put option is priced accordingly.\n",
      "Using Euler Monte Carlo Method: 3.3842\n",
      "Using Fourier Method          : 3.4714\n",
      "#####################################################################\n",
      "For strike price K=100 the European put option is priced accordingly.\n",
      "Using Euler Monte Carlo Method: 10.1552\n",
      "Using Fourier Method          : 9.7738\n",
      "#####################################################################\n",
      "For strike price K=120 the European put option is priced accordingly.\n",
      "Using Euler Monte Carlo Method: 23.6952\n",
      "Using Fourier Method          : 23.4946\n",
      "#####################################################################\n"
     ]
    }
   ],
   "source": [
    "print(\"#####################################################################\")\n",
    "print(\"For strike price K=80 the European put option is priced accordingly.\")\n",
    "print(\"Using Euler Monte Carlo Method: %.4f\" % PutCallParity(C_80,80))\n",
    "print(\"Using Fourier Method          : %.4f\" % FFT_P_80)\n",
    "print(\"#####################################################################\")\n",
    "print(\"For strike price K=100 the European put option is priced accordingly.\")\n",
    "print(\"Using Euler Monte Carlo Method: %.4f\" % PutCallParity(C_100,100))\n",
    "print(\"Using Fourier Method          : %.4f\" % FFT_P_100)\n",
    "print(\"#####################################################################\")\n",
    "print(\"For strike price K=120 the European put option is priced accordingly.\")\n",
    "print(\"Using Euler Monte Carlo Method: %.4f\" % PutCallParity(C_120,120))\n",
    "print(\"Using Fourier Method          : %.4f\" % FFT_P_120)\n",
    "print(\"#####################################################################\")"
   ]
  }
 ],
 "metadata": {
  "kernelspec": {
   "display_name": "Python 3",
   "language": "python",
   "name": "python3"
  },
  "language_info": {
   "codemirror_mode": {
    "name": "ipython",
    "version": 3
   },
   "file_extension": ".py",
   "mimetype": "text/x-python",
   "name": "python",
   "nbconvert_exporter": "python",
   "pygments_lexer": "ipython3",
   "version": "3.6.5"
  }
 },
 "nbformat": 4,
 "nbformat_minor": 2
}
