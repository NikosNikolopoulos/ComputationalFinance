{
 "cells": [
  {
   "cell_type": "code",
   "execution_count": 1,
   "metadata": {},
   "outputs": [],
   "source": [
    "################################################\n",
    "# Numerical Methods for Stachastic             #\n",
    "# Differential Equations                       #\n",
    "# Student: Nikos Nikolopoulos                  #\n",
    "################################################\n",
    "#-----------------------------------------------\n",
    "#-----------------------------------------------\n",
    "################################################\n",
    "# Conclusive observations                      #\n",
    "################################################\n",
    "#-----------------------------------------------\n",
    "\n",
    "#import libraries\n",
    "import time\n",
    "import numpy as np\n",
    "import math\n",
    "from matplotlib import pyplot as plt\n",
    "from math import exp\n",
    "from numpy.lib.scimath  import sqrt\n",
    "from scipy.integrate import quad\n",
    "#-----------------------------------------------\n",
    "import warnings\n",
    "warnings.filterwarnings(\"ignore\")\n",
    "#-----------------------------------------------\n",
    "\n",
    "# to plot the results in the notebook:\n",
    "%matplotlib inline"
   ]
  },
  {
   "cell_type": "code",
   "execution_count": 2,
   "metadata": {},
   "outputs": [],
   "source": [
    "#-----------------------------------------------\n",
    "################################################\n",
    "# Euler Monte Carlo method for a call option   #\n",
    "# under the Heston stochastic volatility model.#\n",
    "################################################\n",
    "#-----------------------------------------------\n",
    "\n",
    "price_trajectories = []             #MC array\n",
    "\n",
    "def EMC_Call_Option(S,V,r,T,delta_t,N,K,k,theta,eta,rho):\n",
    "    M = N**2                            #simulations\n",
    "    payoff_array       = []\n",
    "    discount_factor    = exp(-r * T)\n",
    "\n",
    "    # Tic\n",
    "    t = time.time()\n",
    "\n",
    "    # Calculating payoff vector.\n",
    "    for i in range(0, M):\n",
    "\n",
    "        S_old = S\n",
    "        V_old = V\n",
    "        \n",
    "        for i in range(0, N):\n",
    "            xi = np.random.normal(0,sqrt(delta_t)) \n",
    "            xj = np.random.normal(0,sqrt(delta_t))\n",
    "            \n",
    "            xk = rho*xi + sqrt(1-rho**2)*xj\n",
    "\n",
    "            S_new = S_old + r*S_old*delta_t + S_old*sqrt(max(V_old,0))*xi\n",
    "                \n",
    "            V_new = V_old + k*(theta-V_old)*delta_t + eta*sqrt(max(V_old,0))*xk\n",
    "\n",
    "            S_old = S_new\n",
    "            V_old = V_new\n",
    "            \n",
    "\n",
    "        price_trajectories.append(S_new)\n",
    "        payoff=max(S_new-K,0)\n",
    "        payoff_array.append(payoff)\n",
    "\n",
    "    # Computing price\n",
    "    payoff_array = np.array(payoff_array, dtype=float) \n",
    "    price = np.sum(discount_factor*payoff_array)/M\n",
    "    print(\"Call Option Price      : %.4f\" % price)\n",
    "\n",
    "    # Statistics\n",
    "    variance = np.var(discount_factor*payoff_array)\n",
    "    sd = np.std(discount_factor*payoff_array)\n",
    "    # Variance Estimator\n",
    "    varest=sum((price-discount_factor*payoff_array)**2)/(M-1)\n",
    "    # Root Mean Square Error\n",
    "    RMSE=sqrt(varest)/sqrt(M)\n",
    "    # 95% C.I. uses 1.96 z-value\n",
    "    CI = [price - (1.96*sd/sqrt(float(M))),\n",
    "          price + (1.96*sd/sqrt(float(M)))]\n",
    "\n",
    "    # Toc\n",
    "    elapsed = time.time() - t\n",
    "\n",
    "    #Print\n",
    "    print(\"Variance               : %.4f\" % variance)\n",
    "    print(\"Standard Deviation     : %.4f\" % sd)\n",
    "    print(\"95% Confidence Interval:\", CI) \n",
    "    print(\"Variance Estimator     : %.4f\" % varest)\n",
    "    print(\"Root Mean Square Error : %.4f\" % RMSE)\n",
    "    print(\"Run time               : %.4f\" % elapsed)\n",
    "\n",
    "    # Plot\n",
    "    sims=range(1,M+1)\n",
    "    plt.plot(sims,price_trajectories,color = 'red')\n",
    "    plt.suptitle('Maturity Prices', fontsize=35)\n",
    "    plt.xlabel('Simulation #', fontsize = 30)\n",
    "    plt.ylabel('Price', fontsize= 30)\n",
    "    plt.grid(True)\n",
    "     \n",
    "    return price"
   ]
  },
  {
   "cell_type": "code",
   "execution_count": 3,
   "metadata": {},
   "outputs": [],
   "source": [
    "################################################\n",
    "# Input data.                                  #\n",
    "################################################\n",
    "S         = 100                             #spot price\n",
    "V         = 0.09                            #initial volatility\n",
    "X         = np.log(S)                       #ln(S_0)\n",
    "r         = 0                               #interest rate\n",
    "T         = 1                               #maturity\n",
    "k         = 1\n",
    "theta     = 0.09\n",
    "eta       = 1\n",
    "rho       = -0.3                            #correlation\n",
    "N         = 100                             #number of discrete time points\n",
    "delta_t   = T / N                           #length of interval partition "
   ]
  },
  {
   "cell_type": "code",
   "execution_count": 4,
   "metadata": {},
   "outputs": [
    {
     "name": "stdout",
     "output_type": "stream",
     "text": [
      "Call Option Price      : 23.8646\n",
      "Variance               : 511.5894\n",
      "Standard Deviation     : 22.6183\n",
      "95% Confidence Interval: [23.421246003142194, 24.3078850142471]\n",
      "Variance Estimator     : 511.6406\n",
      "Root Mean Square Error : 0.2262\n",
      "Run time               : 88.6685\n"
     ]
    },
    {
     "data": {
      "image/png": "[encoded data removed]",
      "text/plain": [
       "<Figure size 432x288 with 1 Axes>"
      ]
     },
     "metadata": {},
     "output_type": "display_data"
    }
   ],
   "source": [
    "K         = 80                              #strike price(i)\n",
    "\n",
    "C_80      = EMC_Call_Option(S,V,r,T,delta_t,N,K,k,theta,eta,rho)"
   ]
  },
  {
   "cell_type": "code",
   "execution_count": 10,
   "metadata": {},
   "outputs": [
    {
     "data": {
      "image/png": "[encoded data removed]",
      "text/plain": [
       "<Figure size 1080x432 with 1 Axes>"
      ]
     },
     "metadata": {},
     "output_type": "display_data"
    }
   ],
   "source": [
    "plt.figure(figsize=(15,6))\n",
    "plt.hist(price_trajectories, bins=100)\n",
    "plt.show()"
   ]
  }
 ],
 "metadata": {
  "kernelspec": {
   "display_name": "Python 3",
   "language": "python",
   "name": "python3"
  },
  "language_info": {
   "codemirror_mode": {
    "name": "ipython",
    "version": 3
   },
   "file_extension": ".py",
   "mimetype": "text/x-python",
   "name": "python",
   "nbconvert_exporter": "python",
   "pygments_lexer": "ipython3",
   "version": "3.6.5"
  }
 },
 "nbformat": 4,
 "nbformat_minor": 2
}
