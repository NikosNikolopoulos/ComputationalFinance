{
 "cells": [
  {
   "cell_type": "markdown",
   "metadata": {},
   "source": [
    "## PYTHON VERSION"
   ]
  },
  {
   "cell_type": "code",
   "execution_count": 1,
   "metadata": {},
   "outputs": [
    {
     "name": "stdout",
     "output_type": "stream",
     "text": [
      "3.6.5 |Anaconda, Inc.| (default, Mar 29 2018, 13:32:41) [MSC v.1900 64 bit (AMD64)]\n"
     ]
    }
   ],
   "source": [
    "import sys\n",
    "print(sys.version)"
   ]
  },
  {
   "cell_type": "markdown",
   "metadata": {},
   "source": [
    "## Heston Stochastic Volatility Model\n",
    "\n",
    "\\begin{align*}\n",
    "dX_t&=(r-\\frac{V_t}{2})dt+\\sqrt{V_t}dW_t, \\quad X_0=x, \\\\\n",
    "dV_t&=\\kappa(\\theta-V_t)dt+\\eta \\sqrt{V_t} d\\overline{W}_t, \\quad V_0=v,\n",
    "\\end{align*}\n",
    "\n",
    "where: \n",
    "\n",
    "- $S=S_0e^X,$ \n",
    "- $\\kappa,\\theta,\\eta,v \\in \\mathbb{R}_+,$\n",
    "- $r,x\\in \\mathbb{R},$\n",
    "- $\\rho \\in[-1,1],$\n",
    "- $\\overline{W}=\\rho W +\\sqrt{1-\\rho^2}\\tilde{W}$, $W$ and $\\tilde{W}$ are indipendent Brownian motions."
   ]
  },
  {
   "cell_type": "code",
   "execution_count": 2,
   "metadata": {},
   "outputs": [],
   "source": [
    "#import libraries\n",
    "import time\n",
    "import numpy as np\n",
    "import math\n",
    "from matplotlib import style\n",
    "from matplotlib import pyplot as plt\n",
    "from math import exp\n",
    "from numpy.lib.scimath  import sqrt\n",
    "from scipy.integrate import quad\n",
    "import scipy.stats as stats\n",
    "import statistics\n",
    "#-----------------------------------------------\n",
    "import warnings\n",
    "warnings.filterwarnings(\"ignore\")\n",
    "#-----------------------------------------------\n",
    "\n",
    "# to plot the results in the notebook:\n",
    "%matplotlib inline"
   ]
  },
  {
   "cell_type": "code",
   "execution_count": 3,
   "metadata": {},
   "outputs": [],
   "source": [
    "#-----------------------------------------------\n",
    "################################################\n",
    "# Euler Monte Carlo method for a call option   #\n",
    "# under the Heston stochastic volatility model.#\n",
    "################################################\n",
    "#-----------------------------------------------\n",
    "\n",
    "price_trajectories = []             #MC array\n",
    "def EMC_Call_Option(S,V,r,T,delta_t,N,K,k,theta,eta,rho):\n",
    "    M = N**2                            #simulations\n",
    "    payoff_array       = []\n",
    "    discount_factor    = exp(-r * T)\n",
    "\n",
    "    # Tic\n",
    "    t = time.time()\n",
    "\n",
    "    # Calculating payoff vector.\n",
    "    for i in range(0, M):\n",
    "\n",
    "        S_old = S\n",
    "        V_old = V\n",
    "        \n",
    "        for i in range(0, N):\n",
    "            xi = np.random.normal(0,sqrt(delta_t)) \n",
    "            xj = np.random.normal(0,sqrt(delta_t))\n",
    "            \n",
    "            xk = rho*xi + sqrt(1-rho**2)*xj\n",
    "\n",
    "            S_new = S_old + r*S_old*delta_t + S_old*sqrt(max(V_old,0))*xi\n",
    "                \n",
    "            V_new = V_old + k*(theta-V_old)*delta_t + eta*sqrt(max(V_old,0))*xk\n",
    "\n",
    "            S_old = S_new\n",
    "            V_old = V_new\n",
    "            \n",
    "\n",
    "        price_trajectories.append(S_new)\n",
    "        payoff=max(S_new-K,0)\n",
    "        payoff_array.append(payoff)\n",
    "\n",
    "    # Computing price\n",
    "    payoff_array = np.array(payoff_array, dtype=float) \n",
    "    price = np.sum(discount_factor*payoff_array)/M\n",
    "    print(\"Call Option Price      : %.4f\" % price)\n",
    "\n",
    "    # Statistics\n",
    "    variance = np.var(discount_factor*payoff_array)\n",
    "    sd = np.std(discount_factor*payoff_array)\n",
    "    # Variance Estimator\n",
    "    varest=sum((price-discount_factor*payoff_array)**2)/(M-1)\n",
    "    # Root Mean Square Error\n",
    "    RMSE=sqrt(varest)/sqrt(M)\n",
    "    # 95% C.I. uses 1.96 z-value\n",
    "    CI = [price - (1.96*sd/sqrt(float(M))),\n",
    "          price + (1.96*sd/sqrt(float(M)))]\n",
    "\n",
    "    # Toc\n",
    "    elapsed = time.time() - t\n",
    "\n",
    "    #Print\n",
    "    print(\"Variance               : %.4f\" % variance)\n",
    "    print(\"Standard Deviation     : %.4f\" % sd)\n",
    "    print(\"95% Confidence Interval:\", CI) \n",
    "    print(\"Variance Estimator     : %.4f\" % varest)\n",
    "    print(\"Root Mean Square Error : %.4f\" % RMSE)\n",
    "    print(\"Run time               : %.4f\" % elapsed)\n",
    "\n",
    "    # Plot\n",
    "    sims=range(1,M+1)\n",
    "    #fig = plt.figure(figsize=(40,6))\n",
    "    #plt.plot(sims,price_trajectories,color = 'red')\n",
    "    #plt.suptitle('Maturity Prices', fontsize=35)\n",
    "    #plt.xlabel('Simulation #', fontsize = 30)\n",
    "    #plt.ylabel('Price', fontsize= 30)\n",
    "    #plt.grid(True)\n",
    "     \n",
    "    return price"
   ]
  },
  {
   "cell_type": "code",
   "execution_count": 4,
   "metadata": {},
   "outputs": [],
   "source": [
    "def plot_trajectories(T,delta_t,M,price_trajectories):\n",
    "        \"\"\"uses matplotlib to plot the trajectory\n",
    "        of each individual stock stored in earlier\n",
    "        trajectory array\"\"\"\n",
    "        print(\"Creating Plot...\")\n",
    "        #use numpy to plot \n",
    "        np_price_trajectories = np.array(price_trajectories, dtype=float)\n",
    "        times = np.linspace(0, T, M)\n",
    "\n",
    "        #style/plot/barrier line\n",
    "        #style.use('dark_background')\n",
    "        style.use('classic')\n",
    "\n",
    "        fig = plt.figure(figsize=(30,6))\n",
    "        ax1 = plt.subplot2grid((1,1),(0,0))\n",
    "        #for sublist in np_price_trajectories:\n",
    "        #   if np.max(sublist) > 0:\n",
    "        #        ax1.plot(times,sublist,color = 'cyan')\n",
    "        #    else:\n",
    "        ax1.plot(times,np_price_trajectories,color = 'red')\n",
    "        #plt.axhline(y=8,xmin=0,xmax=T,linewidth=2, color = 'red', label = 'Barrier')\n",
    "\n",
    "        #rotate and add grid\n",
    "        #for label in ax1.xaxis.get_ticklabels():\n",
    "        #    label.set_rotation(45)\n",
    "        ax1.grid(True)\n",
    "      \n",
    "        #plotting stuff\n",
    "        plt.xticks(np.arange(0, T+delta_t, .1))\n",
    "        plt.suptitle('Stock Price Trajectory', fontsize=40)\n",
    "        plt.xlabel('Time (in years)', fontsize = 30)\n",
    "        plt.ylabel('Price', fontsize= 30)\n",
    "        plt.show()"
   ]
  },
  {
   "cell_type": "markdown",
   "metadata": {},
   "source": [
    "## Input Data\n",
    "<UL>\n",
    "    <LI>Spot price $S_0=100$, interest rate $r=0\\%$.</LI>\n",
    "    <LI>Maturity $T=1$, strike price $K=80.$</LI>\n",
    "    <LI><B>Heston Parameters</B>: $\\kappa=1,\\theta=v=9\\%,\\eta=1, \\rho=-0.3$.</LI>\n",
    "</UL>"
   ]
  },
  {
   "cell_type": "code",
   "execution_count": 5,
   "metadata": {},
   "outputs": [],
   "source": [
    "################################################\n",
    "# Input data.                                  #\n",
    "################################################\n",
    "S         = 100                             #spot price\n",
    "V         = 0.09                            #initial volatility\n",
    "X         = np.log(S)                       #ln(S_0)\n",
    "r         = 0                               #interest rate\n",
    "T         = 1                               #maturity\n",
    "k         = 1\n",
    "theta     = 0.09\n",
    "eta       = 1\n",
    "rho       = -0.3                            #correlation\n",
    "N         = 100                             #number of discrete time points\n",
    "delta_t   = T / N                           #length of interval partition "
   ]
  },
  {
   "cell_type": "code",
   "execution_count": null,
   "metadata": {
    "scrolled": false
   },
   "outputs": [],
   "source": [
    "K         = 80                              #strike price(i)\n",
    "\n",
    "C_80      = EMC_Call_Option(S,V,r,T,delta_t,N,K,k,theta,eta,rho)"
   ]
  },
  {
   "cell_type": "code",
   "execution_count": null,
   "metadata": {},
   "outputs": [],
   "source": [
    "plot_trajectories(T,delta_t,N**2,price_trajectories)"
   ]
  },
  {
   "cell_type": "markdown",
   "metadata": {},
   "source": [
    "## Approximating the Distribution of the Underlyings\n",
    "The <b>Heston Stochastic Volatility Model</b> doesn't impy that the underlying assets follow a <b>log-normal distribution</b>: \n",
    "- Red Curve $\\rightarrow$ Gamma Distribution\n",
    "- Green Curve $\\rightarrow$ Normal Distribuiton"
   ]
  },
  {
   "cell_type": "code",
   "execution_count": null,
   "metadata": {
    "scrolled": true
   },
   "outputs": [],
   "source": [
    "bins=100\n",
    "style.use('classic')\n",
    "#plt.hist(price_trajectories,bins)\n",
    "fig = plt.figure(figsize=(5,3))\n",
    "plt.hist(price_trajectories,bins,density=True)\n",
    "\n",
    "mu = statistics.mean(price_trajectories)\n",
    "sigma = statistics.stdev(price_trajectories)\n",
    "x = np.linspace(mu - 5*sigma, mu + 5*sigma, 100)\n",
    "\n",
    "plt.plot(x,stats.norm.pdf(x, mu, sigma))\n",
    "\n",
    "plt.plot(x,stats.gamma.pdf(x, a=30, scale=3.5))\n",
    "\n",
    "plt.grid(True)\n",
    "plt.show()"
   ]
  }
 ],
 "metadata": {
  "kernelspec": {
   "display_name": "Python 3",
   "language": "python",
   "name": "python3"
  },
  "language_info": {
   "codemirror_mode": {
    "name": "ipython",
    "version": 3
   },
   "file_extension": ".py",
   "mimetype": "text/x-python",
   "name": "python",
   "nbconvert_exporter": "python",
   "pygments_lexer": "ipython3",
   "version": "3.6.5"
  }
 },
 "nbformat": 4,
 "nbformat_minor": 2
}
